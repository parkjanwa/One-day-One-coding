{
  "nbformat": 4,
  "nbformat_minor": 0,
  "metadata": {
    "colab": {
      "name": "pytorch기초.ipynb",
      "provenance": []
    },
    "kernelspec": {
      "name": "python3",
      "display_name": "Python 3"
    },
    "language_info": {
      "name": "python"
    },
    "accelerator": "GPU"
  },
  "cells": [
    {
      "cell_type": "code",
      "metadata": {
        "id": "5ASVRf_OFEr6"
      },
      "source": [
        "import torch"
      ],
      "execution_count": 1,
      "outputs": []
    },
    {
      "cell_type": "markdown",
      "metadata": {
        "id": "yPuvTMOxFSpq"
      },
      "source": [
        "## 인덱싱"
      ]
    },
    {
      "cell_type": "code",
      "metadata": {
        "colab": {
          "base_uri": "https://localhost:8080/"
        },
        "id": "REK-NHNYFV9h",
        "outputId": "df9aba92-b739-474b-f107-fde054391dbf"
      },
      "source": [
        "x = torch.Tensor([[1, 2], [3, 4]])\n",
        "print(x[:, 1])"
      ],
      "execution_count": 2,
      "outputs": [
        {
          "output_type": "stream",
          "text": [
            "tensor([2., 4.])\n"
          ],
          "name": "stdout"
        }
      ]
    },
    {
      "cell_type": "markdown",
      "metadata": {
        "id": "lWbI_9lbFbpo"
      },
      "source": [
        "## View"
      ]
    },
    {
      "cell_type": "code",
      "metadata": {
        "colab": {
          "base_uri": "https://localhost:8080/"
        },
        "id": "7szhL0QLFdBf",
        "outputId": "9b24eda1-2aff-4eaf-ed72-d11a4117fe5c"
      },
      "source": [
        "x = torch.randn(4, 5)\n",
        "y = x.view(20)\n",
        "z = x.view(5, -1)\n",
        "\n",
        "print(x)\n",
        "print(y)\n",
        "print(z)"
      ],
      "execution_count": 3,
      "outputs": [
        {
          "output_type": "stream",
          "text": [
            "tensor([[ 0.3114, -1.5576,  0.6089, -0.5731, -0.7946],\n",
            "        [ 0.2505, -0.2137,  1.8551, -0.6330, -1.4387],\n",
            "        [-0.6269, -1.3936, -0.2002, -0.7241,  0.1833],\n",
            "        [ 0.7976, -0.0186, -0.4982,  0.8449,  1.3129]])\n",
            "tensor([ 0.3114, -1.5576,  0.6089, -0.5731, -0.7946,  0.2505, -0.2137,  1.8551,\n",
            "        -0.6330, -1.4387, -0.6269, -1.3936, -0.2002, -0.7241,  0.1833,  0.7976,\n",
            "        -0.0186, -0.4982,  0.8449,  1.3129])\n",
            "tensor([[ 0.3114, -1.5576,  0.6089, -0.5731],\n",
            "        [-0.7946,  0.2505, -0.2137,  1.8551],\n",
            "        [-0.6330, -1.4387, -0.6269, -1.3936],\n",
            "        [-0.2002, -0.7241,  0.1833,  0.7976],\n",
            "        [-0.0186, -0.4982,  0.8449,  1.3129]])\n"
          ],
          "name": "stdout"
        }
      ]
    },
    {
      "cell_type": "markdown",
      "metadata": {
        "id": "YphM15GBFkf5"
      },
      "source": [
        "## Item"
      ]
    },
    {
      "cell_type": "code",
      "metadata": {
        "colab": {
          "base_uri": "https://localhost:8080/"
        },
        "id": "l03N4xkBFkA6",
        "outputId": "5fb070db-0991-4a51-a540-bda7cbd125db"
      },
      "source": [
        "x = torch.randn(1)\n",
        "print(x)\n",
        "print(x.item())\n",
        "print(x.dtype)"
      ],
      "execution_count": 5,
      "outputs": [
        {
          "output_type": "stream",
          "text": [
            "tensor([0.4627])\n",
            "0.46272435784339905\n",
            "torch.float32\n"
          ],
          "name": "stdout"
        }
      ]
    },
    {
      "cell_type": "markdown",
      "metadata": {
        "id": "MB6mrtTrF8Xs"
      },
      "source": [
        "스칼라값 하나만 존재해야 함"
      ]
    },
    {
      "cell_type": "code",
      "metadata": {
        "id": "LgCkajFcF6Yc"
      },
      "source": [
        "# error\n",
        "\n",
        "x = torch.randn(2)\n",
        "print(x)\n",
        "print(x.item())\n",
        "print(x.dtype)"
      ],
      "execution_count": null,
      "outputs": []
    },
    {
      "cell_type": "markdown",
      "metadata": {
        "id": "g2_j35dcF2VU"
      },
      "source": [
        "## Squeeze"
      ]
    },
    {
      "cell_type": "code",
      "metadata": {
        "colab": {
          "base_uri": "https://localhost:8080/"
        },
        "id": "_etrHrfDFygf",
        "outputId": "60371d70-1ec0-4838-d10f-68b8159d71e8"
      },
      "source": [
        "t = torch.rand(1, 3, 3)\n",
        "print(t)\n",
        "print(t.shape)"
      ],
      "execution_count": 10,
      "outputs": [
        {
          "output_type": "stream",
          "text": [
            "tensor([[[0.2977, 0.1754, 0.8905],\n",
            "         [0.6087, 0.0433, 0.4545],\n",
            "         [0.5659, 0.8955, 0.4652]]])\n",
            "torch.Size([1, 3, 3])\n"
          ],
          "name": "stdout"
        }
      ]
    },
    {
      "cell_type": "code",
      "metadata": {
        "colab": {
          "base_uri": "https://localhost:8080/"
        },
        "id": "PjL7kpPnGNm0",
        "outputId": "280c6a31-db86-4c46-ce2e-5a1de3ce0fb4"
      },
      "source": [
        "s = t.squeeze()\n",
        "\n",
        "print(s)\n",
        "print(s.shape)"
      ],
      "execution_count": 11,
      "outputs": [
        {
          "output_type": "stream",
          "text": [
            "tensor([[0.2977, 0.1754, 0.8905],\n",
            "        [0.6087, 0.0433, 0.4545],\n",
            "        [0.5659, 0.8955, 0.4652]])\n",
            "torch.Size([3, 3])\n"
          ],
          "name": "stdout"
        }
      ]
    },
    {
      "cell_type": "markdown",
      "metadata": {
        "id": "nZcxBA20GFc8"
      },
      "source": [
        "## Unsqueeze"
      ]
    },
    {
      "cell_type": "code",
      "metadata": {
        "colab": {
          "base_uri": "https://localhost:8080/"
        },
        "id": "eSM6ncnLGHrI",
        "outputId": "5c1764f8-011a-4af5-a898-75cf56140605"
      },
      "source": [
        "t = torch.rand(1, 3, 3)\n",
        "print(t)\n",
        "print(t.shape)"
      ],
      "execution_count": 12,
      "outputs": [
        {
          "output_type": "stream",
          "text": [
            "tensor([[[0.2377, 0.8652, 0.6930],\n",
            "         [0.9596, 0.3690, 0.4586],\n",
            "         [0.5606, 0.6320, 0.9142]]])\n",
            "torch.Size([1, 3, 3])\n"
          ],
          "name": "stdout"
        }
      ]
    },
    {
      "cell_type": "code",
      "metadata": {
        "colab": {
          "base_uri": "https://localhost:8080/"
        },
        "id": "2ieAma_gGsW8",
        "outputId": "a7cb9646-c8eb-4bd7-ba8d-e5f05c0faea6"
      },
      "source": [
        "s = t.unsqueeze(dim=0)\n",
        "\n",
        "print(s)\n",
        "print(s.shape)"
      ],
      "execution_count": 13,
      "outputs": [
        {
          "output_type": "stream",
          "text": [
            "tensor([[[[0.2377, 0.8652, 0.6930],\n",
            "          [0.9596, 0.3690, 0.4586],\n",
            "          [0.5606, 0.6320, 0.9142]]]])\n",
            "torch.Size([1, 1, 3, 3])\n"
          ],
          "name": "stdout"
        }
      ]
    },
    {
      "cell_type": "markdown",
      "metadata": {
        "id": "POd6xskNG0ju"
      },
      "source": [
        "## Stack"
      ]
    },
    {
      "cell_type": "code",
      "metadata": {
        "colab": {
          "base_uri": "https://localhost:8080/"
        },
        "id": "aqUsPaN1G29f",
        "outputId": "fb3c471f-5606-42be-d558-1c44cd1004a0"
      },
      "source": [
        "x = torch.FloatTensor([1, 4])\n",
        "y = torch.FloatTensor([2, 5])\n",
        "z = torch.FloatTensor([3, 6])\n",
        "\n",
        "print(torch.stack([x, y, z]))"
      ],
      "execution_count": 14,
      "outputs": [
        {
          "output_type": "stream",
          "text": [
            "tensor([[1., 4.],\n",
            "        [2., 5.],\n",
            "        [3., 6.]])\n"
          ],
          "name": "stdout"
        }
      ]
    },
    {
      "cell_type": "markdown",
      "metadata": {
        "id": "XRr7_dvoHFAC"
      },
      "source": [
        "## Cat"
      ]
    },
    {
      "cell_type": "code",
      "metadata": {
        "colab": {
          "base_uri": "https://localhost:8080/"
        },
        "id": "6VmCj-u7HE1o",
        "outputId": "c9aded21-751a-46bb-f76e-717dc7c855d8"
      },
      "source": [
        "a = torch.randn(1, 1, 3, 3)\n",
        "b = torch.randn(1, 1, 3, 3)\n",
        "c = torch.cat((a, b), dim = 0)\n",
        "\n",
        "print(c)\n",
        "print(c.shape)"
      ],
      "execution_count": 16,
      "outputs": [
        {
          "output_type": "stream",
          "text": [
            "tensor([[[[ 1.2793, -1.8122, -0.4603],\n",
            "          [-0.4636, -0.8963, -0.4037],\n",
            "          [-0.3624, -0.2423, -1.9395]]],\n",
            "\n",
            "\n",
            "        [[[-0.2525,  1.5356, -1.2392],\n",
            "          [-0.7102,  0.0603,  1.3236],\n",
            "          [ 0.9666,  0.0430,  1.1598]]]])\n",
            "torch.Size([2, 1, 3, 3])\n"
          ],
          "name": "stdout"
        }
      ]
    },
    {
      "cell_type": "code",
      "metadata": {
        "colab": {
          "base_uri": "https://localhost:8080/"
        },
        "id": "Z7ctrkvrHDca",
        "outputId": "ae780b1f-2e9c-4a3c-cdb4-f6e61979e8ab"
      },
      "source": [
        "a = torch.randn(1, 1, 3, 3)\n",
        "b = torch.randn(1, 1, 3, 3)\n",
        "c = torch.cat((a, b), dim = 2)\n",
        "\n",
        "print(c)\n",
        "print(c.shape)"
      ],
      "execution_count": 17,
      "outputs": [
        {
          "output_type": "stream",
          "text": [
            "tensor([[[[ 0.3444, -0.3992, -1.0822],\n",
            "          [ 0.0614,  0.1266,  0.9905],\n",
            "          [-1.8172,  0.4659,  0.8966],\n",
            "          [ 1.2097,  0.1043, -0.6026],\n",
            "          [ 0.5170,  1.4154, -0.1849],\n",
            "          [ 0.5803,  0.0898,  1.5115]]]])\n",
            "torch.Size([1, 1, 6, 3])\n"
          ],
          "name": "stdout"
        }
      ]
    },
    {
      "cell_type": "markdown",
      "metadata": {
        "id": "IU6v_lVbHauW"
      },
      "source": [
        "## Chunk"
      ]
    },
    {
      "cell_type": "code",
      "metadata": {
        "colab": {
          "base_uri": "https://localhost:8080/"
        },
        "id": "ywd4ErnZHcin",
        "outputId": "c85d4ae8-1d04-45c2-e991-d53f593844d4"
      },
      "source": [
        "t = torch.randn(3, 6)\n",
        "t1, t2, t3 = torch.chunk(t, 3, dim=1)\n",
        "\n",
        "print(t)\n",
        "print(t1)\n",
        "print(t2)\n",
        "print(t3)"
      ],
      "execution_count": 18,
      "outputs": [
        {
          "output_type": "stream",
          "text": [
            "tensor([[-1.2473, -0.0945,  1.6750, -0.3555, -0.1611, -0.4919],\n",
            "        [ 0.6145,  0.9226,  0.6055, -0.7205, -0.3153,  0.0157],\n",
            "        [-0.7528, -0.2231, -0.3155, -0.4121, -0.1183, -0.3288]])\n",
            "tensor([[-1.2473, -0.0945],\n",
            "        [ 0.6145,  0.9226],\n",
            "        [-0.7528, -0.2231]])\n",
            "tensor([[ 1.6750, -0.3555],\n",
            "        [ 0.6055, -0.7205],\n",
            "        [-0.3155, -0.4121]])\n",
            "tensor([[-0.1611, -0.4919],\n",
            "        [-0.3153,  0.0157],\n",
            "        [-0.1183, -0.3288]])\n"
          ],
          "name": "stdout"
        }
      ]
    },
    {
      "cell_type": "markdown",
      "metadata": {
        "id": "VHrDfA-iIB6w"
      },
      "source": [
        "## Split"
      ]
    },
    {
      "cell_type": "code",
      "metadata": {
        "colab": {
          "base_uri": "https://localhost:8080/"
        },
        "id": "NWXhHm7iH-mX",
        "outputId": "95947a4c-d3a7-4ce6-907c-8bc10992b0e1"
      },
      "source": [
        " t = torch.rand(3, 6)\n",
        " t1, t2 = torch.split(t, 3, dim=1)\n",
        "\n",
        " print(t)\n",
        " print(t1)\n",
        " print(t2)"
      ],
      "execution_count": 21,
      "outputs": [
        {
          "output_type": "stream",
          "text": [
            "tensor([[0.3450, 0.3517, 0.9458, 0.6299, 0.9866, 0.7382],\n",
            "        [0.5873, 0.3938, 0.8956, 0.7538, 0.2059, 0.3986],\n",
            "        [0.4444, 0.0157, 0.2567, 0.4892, 0.0654, 0.3537]])\n",
            "tensor([[0.3450, 0.3517, 0.9458],\n",
            "        [0.5873, 0.3938, 0.8956],\n",
            "        [0.4444, 0.0157, 0.2567]])\n",
            "tensor([[0.6299, 0.9866, 0.7382],\n",
            "        [0.7538, 0.2059, 0.3986],\n",
            "        [0.4892, 0.0654, 0.3537]])\n"
          ],
          "name": "stdout"
        }
      ]
    }
  ]
}